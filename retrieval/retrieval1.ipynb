{
 "cells": [
  {
   "cell_type": "code",
   "execution_count": 1,
   "id": "db6db5d4",
   "metadata": {},
   "outputs": [],
   "source": [
    "query_string = '''winnie wednesday is the only one who knows of the new threat to hemlock falls, the whisperer.'''.lower()"
   ]
  },
  {
   "cell_type": "code",
   "execution_count": 2,
   "id": "5b2f6b76",
   "metadata": {},
   "outputs": [],
   "source": [
    "import metapy\n",
    "import pickle\n",
    "\n",
    "with open('book_list.pkl', 'rb') as input_file:\n",
    "    book_list = pickle.load(input_file)\n",
    "    \n",
    "with open('book_desc/book_desc.dat','w') as output_file:\n",
    "    book_isbn = list(book_list.keys())\n",
    "    book_desc = []\n",
    "    for idx, i in enumerate(book_isbn):\n",
    "        book_desc.append(book_list[i].get('description').lower())\n",
    "        output_file.write(book_desc[idx] + '\\n')"
   ]
  },
  {
   "cell_type": "code",
   "execution_count": 3,
   "id": "9e77fb68",
   "metadata": {},
   "outputs": [
    {
     "name": "stdout",
     "output_type": "stream",
     "text": [
      "Rank 1 : ELON MUSK - Walter Isaacson\n",
      "Rank 2 : MY NAME IS BARBRA - Barbra Streisand\n",
      "Rank 3 : THE HORSEWOMAN - James Patterson and Mike Lupica\n",
      "Rank 4 : MOTHER-DAUGHTER MURDER NIGHT - Nina Simon\n",
      "Rank 5 : THE HAUNTING - Natasha Preston\n"
     ]
    }
   ],
   "source": [
    "if __name__ == '__main__':\n",
    "    cfg = 'config.toml'\n",
    "    \n",
    "    idx = metapy.index.make_inverted_index(cfg)\n",
    "    ranker = metapy.index.OkapiBM25()\n",
    "    query = metapy.index.Document()\n",
    "    query.content(query_string)\n",
    "\n",
    "    top_docs = ranker.score(idx, query, num_results = 5)\n",
    "    \n",
    "    for i, idx in enumerate(top_docs):\n",
    "        print('Rank', i + 1, \":\", book_list[book_isbn[idx[0]]].get('title'), '-', book_list[book_isbn[idx[0]]].get('author'))"
   ]
  }
 ],
 "metadata": {
  "kernelspec": {
   "display_name": "Python 3",
   "language": "python",
   "name": "python3"
  },
  "language_info": {
   "codemirror_mode": {
    "name": "ipython",
    "version": 3
   },
   "file_extension": ".py",
   "mimetype": "text/x-python",
   "name": "python",
   "nbconvert_exporter": "python",
   "pygments_lexer": "ipython3",
   "version": "3.5.6"
  }
 },
 "nbformat": 4,
 "nbformat_minor": 5
}
