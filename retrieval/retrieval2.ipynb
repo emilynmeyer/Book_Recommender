{
 "cells": [
  {
   "cell_type": "code",
   "execution_count": 1,
   "id": "8a4a76a3",
   "metadata": {},
   "outputs": [],
   "source": [
    "query_string = '''winnie wednesday is the only one who knows of the new threat to hemlock falls, the whisperer.'''.lower()"
   ]
  },
  {
   "cell_type": "code",
   "execution_count": 2,
   "id": "ba1bdeba",
   "metadata": {},
   "outputs": [],
   "source": [
    "from rank_bm25 import BM25Okapi\n",
    "import pickle\n",
    "import pandas as pd\n",
    "import numpy as np\n",
    "\n",
    "\n",
    "with open('book_list.pkl', 'rb') as input_file:\n",
    "    book_list = pickle.load(input_file)\n",
    "\n",
    "desc_isbn = {}\n",
    "\n",
    "for k, v in book_list.items():\n",
    "    desc = v['description'].lower()\n",
    "    desc_isbn[desc] = k"
   ]
  },
  {
   "cell_type": "code",
   "execution_count": 3,
   "id": "409a3f98",
   "metadata": {},
   "outputs": [
    {
     "name": "stdout",
     "output_type": "stream",
     "text": [
      "Rank 1 : THE HUNTING MOON - Susan Dennard\n",
      "Rank 2 : CURIOUS TIDES - Pascale Lacelle\n",
      "Rank 3 : THE HEAVEN & EARTH GROCERY STORE - James McBride\n",
      "Rank 4 : ENOUGH - Cassidy Hutchinson\n",
      "Rank 5 : GOING INFINITE - Michael Lewis\n"
     ]
    }
   ],
   "source": [
    "# https://pypi.org/project/rank-bm25/\n",
    "\n",
    "corpus = list(desc_isbn.keys())\n",
    "\n",
    "tokenized_corpus = [doc.split(\" \") for doc in corpus]\n",
    "\n",
    "bm25 = BM25Okapi(tokenized_corpus)\n",
    "\n",
    "query = query_string\n",
    "tokenized_query = query.split(\" \")\n",
    "\n",
    "doc_scores = bm25.get_scores(tokenized_query)\n",
    "max_index = np.argmax(doc_scores)\n",
    "top_n = bm25.get_top_n(tokenized_query, corpus, n=5)\n",
    "\n",
    "for i, idx in enumerate(top_n):\n",
    "    print('Rank', i + 1, \":\", book_list[desc_isbn[idx]].get('title'), '-', book_list[desc_isbn[idx]].get('author'))"
   ]
  }
 ],
 "metadata": {
  "kernelspec": {
   "display_name": "Python 3",
   "language": "python",
   "name": "python3"
  },
  "language_info": {
   "codemirror_mode": {
    "name": "ipython",
    "version": 3
   },
   "file_extension": ".py",
   "mimetype": "text/x-python",
   "name": "python",
   "nbconvert_exporter": "python",
   "pygments_lexer": "ipython3",
   "version": "3.5.6"
  }
 },
 "nbformat": 4,
 "nbformat_minor": 5
}
