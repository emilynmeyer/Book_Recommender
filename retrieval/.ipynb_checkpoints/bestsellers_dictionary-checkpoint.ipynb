{
 "cells": [
  {
   "cell_type": "code",
   "execution_count": null,
   "id": "8c6829bf-538f-4142-80df-141a757161ad",
   "metadata": {
    "tags": []
   },
   "outputs": [],
   "source": [
    "'''This file reads in json data from the NYT Bestsellers API and Google Books API\n",
    "    it then stores information from that data in a nested dictionary.\n",
    "    The keys for this dictionary are ISBN, each ISBN has a dictionary with Title, Author, and Description.'''\n",
    "\n",
    "import requests\n",
    "import json\n",
    "\n",
    "NYT_API = requests.get('https://api.nytimes.com/svc/books/v3/lists/full-overview/current.json?api-key=AzHG5csxiABJYEYKFOd2hjgWF3jRNscJ')\n",
    "nyt = NYT_API.text\n",
    "nyt_data = json.loads(nyt)\n",
    "\n",
    "results = nyt_data['results']\n",
    "lists = results['lists']\n",
    "\n",
    "#bestseller_list = [] #There are multiple bestsellers lists on the NYT. This is a list of the lists of bestsellers.\n",
    "ISBN = [] #unique key to look up books\n",
    "book_list = {} #using ISBN as the key. Provides a dictionary with title, author, description\n",
    "\n",
    "for i in range(len(lists)):\n",
    "    bestseller_list = lists[i].get('books') #get only the books from the bestseller list\n",
    "    for j in range(len(bestseller_list)):\n",
    "        isbn = bestseller_list[j].get('primary_isbn13')\n",
    "        if len(isbn) == 13:\n",
    "            ISBN.append(isbn)\n",
    "\n",
    "            GOOGLE_API = requests.get('https://www.googleapis.com/books/v1/volumes?q=isbn:' + isbn)\n",
    "            google = GOOGLE_API.text\n",
    "            google_data = json.loads(google)\n",
    "            if 'items' in google_data.keys():\n",
    "                google_volumeInfo = google_data['items'][0].get('volumeInfo')\n",
    "                if 'description' in google_volumeInfo.keys():\n",
    "                    google_description = google_volumeInfo['description']\n",
    "\n",
    "            title = bestseller_list[j].get('title') #within the book list, get the title\n",
    "            author = bestseller_list[j].get('author')\n",
    "            nyt_description = bestseller_list[j].get('description').lower() #within the book list, get the description\n",
    "            \n",
    "            book_list[isbn] = {}\n",
    "            book_list[isbn]['description'] = nyt_description + google_description #dictionary with title as key and description as value\n",
    "            book_list[isbn]['title'] = title\n",
    "            book_list[isbn]['author'] = author\n"
   ]
  },
  {
   "cell_type": "code",
   "execution_count": null,
   "id": "a65068f1-dd85-4330-b4f8-fc0953c8f09f",
   "metadata": {},
   "outputs": [],
   "source": []
  }
 ],
 "metadata": {
  "kernelspec": {
   "display_name": "Python 3 (ipykernel)",
   "language": "python",
   "name": "python3"
  },
  "language_info": {
   "codemirror_mode": {
    "name": "ipython",
    "version": 3
   },
   "file_extension": ".py",
   "mimetype": "text/x-python",
   "name": "python",
   "nbconvert_exporter": "python",
   "pygments_lexer": "ipython3",
   "version": "3.9.18"
  }
 },
 "nbformat": 4,
 "nbformat_minor": 5
}
