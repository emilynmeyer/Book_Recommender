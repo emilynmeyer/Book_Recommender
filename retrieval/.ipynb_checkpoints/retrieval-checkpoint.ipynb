{
 "cells": [
  {
   "cell_type": "code",
   "execution_count": 1,
   "id": "ba1bdeba",
   "metadata": {
    "tags": []
   },
   "outputs": [],
   "source": [
    "## Importing necessary modules\n",
    "# import nltk\n",
    "# nltk.download('wordnet')\n",
    "# nltk.download('stopwords')\n",
    "import string\n",
    "import pickle\n",
    "import pandas as pd\n",
    "import numpy as np\n",
    "from rank_bm25 import BM25Okapi\n",
    "from nltk.stem import WordNetLemmatizer, PorterStemmer\n",
    "from nltk.corpus import stopwords\n",
    "\n",
    "\n",
    "## Function to preprocess sentence\n",
    "def preprocess_sentence(sentence):\n",
    "    lemmatizer = WordNetLemmatizer()\n",
    "    porter = PorterStemmer()\n",
    "    \n",
    "    sentence = sentence.split(' ')\n",
    "    \n",
    "    for i, word in enumerate(sentence):\n",
    "        word = word.lower()\n",
    "        word = \"\".join([char for char in word if char not in string.punctuation])\n",
    "        word = lemmatizer.lemmatize(word)\n",
    "        word = porter.stem(word)\n",
    "        sentence[i] = word\n",
    "    \n",
    "    sentence = [word for word in sentence if word not in stopwords.words('english')]\n",
    "    sentence = \" \".join(sentence)\n",
    "    \n",
    "    return sentence"
   ]
  },
  {
   "cell_type": "code",
   "execution_count": 2,
   "id": "47e15d32-1361-4961-8267-543cb45ea481",
   "metadata": {
    "tags": []
   },
   "outputs": [],
   "source": [
    "## Importing book information (Title, ISBN, Description, etc.) extracted from Google BooksAPI\n",
    "with open('book_list.pkl', 'rb') as input_file:\n",
    "    book_list = pickle.load(input_file)\n",
    "    \n",
    "## Preprocessing description\n",
    "desc_isbn = {}\n",
    "\n",
    "for k, v in book_list.items():\n",
    "    desc = preprocess_sentence(v['description'])\n",
    "    desc_isbn[desc] = k"
   ]
  },
  {
   "cell_type": "code",
   "execution_count": 3,
   "id": "45745c21-83a4-4984-a7ab-d1fc60748ddc",
   "metadata": {},
   "outputs": [],
   "source": [
    "## Initializing a query\n",
    "query_string = '''the 27th book in the jack reacher series. reacher goes after a killer but is unaware of the bigger implications.NEW YORK TIMES BESTSELLER • The gripping new Jack Reacher thriller from the #1 New York Times bestselling authors Lee Child and Andrew Child “No Plan B is not to be missed'''"
   ]
  },
  {
   "cell_type": "code",
   "execution_count": 4,
   "id": "409a3f98",
   "metadata": {
    "tags": []
   },
   "outputs": [
    {
     "name": "stdout",
     "output_type": "stream",
     "text": [
      "Rank 1 : NO PLAN B - Lee Child and Andrew Child - 9781984818577\n",
      "Rank 2 : THE SECRET - Lee Child and Andrew Child - 9781984818584\n",
      "Rank 3 : THE SECRET - Lee Child and Andrew Child - 9780593452806\n",
      "Rank 4 : FIVE SURVIVE - Holly Jackson - 9780593374160\n",
      "Rank 5 : CONSTRUCTION SITE ON CHRISTMAS NIGHT - Sherri Duskey Rinker. - 9781452139111\n"
     ]
    }
   ],
   "source": [
    "# https://pypi.org/project/rank-bm25/\n",
    "\n",
    "corpus = list(desc_isbn.keys())\n",
    "\n",
    "tokenized_corpus = [doc.split(\" \") for doc in corpus]\n",
    "\n",
    "bm25 = BM25Okapi(tokenized_corpus)\n",
    "\n",
    "query = preprocess_sentence(query_string)\n",
    "tokenized_query = query.split(\" \")\n",
    "\n",
    "doc_scores = bm25.get_scores(tokenized_query)\n",
    "max_index = np.argmax(doc_scores)\n",
    "top_n = bm25.get_top_n(tokenized_query, corpus, n=5)\n",
    "\n",
    "for i, idx in enumerate(top_n):\n",
    "    print('Rank', i + 1, \":\", book_list[desc_isbn[idx]].get('title'), '-', book_list[desc_isbn[idx]].get('author'), '-', desc_isbn[idx])"
   ]
  }
 ],
 "metadata": {
  "kernelspec": {
   "display_name": "Python 3 (ipykernel)",
   "language": "python",
   "name": "python3"
  },
  "language_info": {
   "codemirror_mode": {
    "name": "ipython",
    "version": 3
   },
   "file_extension": ".py",
   "mimetype": "text/x-python",
   "name": "python",
   "nbconvert_exporter": "python",
   "pygments_lexer": "ipython3",
   "version": "3.11.5"
  }
 },
 "nbformat": 4,
 "nbformat_minor": 5
}
